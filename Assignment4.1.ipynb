{
  "nbformat": 4,
  "nbformat_minor": 0,
  "metadata": {
    "colab": {
      "name": "Untitled0.ipynb",
      "version": "0.3.2",
      "views": {},
      "default_view": {},
      "provenance": []
    },
    "kernelspec": {
      "name": "python3",
      "display_name": "Python 3"
    }
  },
  "cells": [
    {
      "metadata": {
        "id": "HetwOjtei_Nf",
        "colab_type": "code",
        "colab": {
          "autoexec": {
            "startup": false,
            "wait_interval": 0
          },
          "base_uri": "https://localhost:8080/",
          "height": 54
        },
        "outputId": "a1feb736-cdba-4d49-f4a6-584cf9fcb1cf",
        "executionInfo": {
          "status": "ok",
          "timestamp": 1533060969643,
          "user_tz": -330,
          "elapsed": 1112,
          "user": {
            "displayName": "Rajaram Tripathy",
            "photoUrl": "https://lh3.googleusercontent.com/a/default-user=s128",
            "userId": "113757443950913232239"
          }
        }
      },
      "cell_type": "code",
      "source": [
        "## Assignment4.1-Task2.1: Write a function to find moving average in an array over a window:\n",
        "## Test it over [3, 5, 7, 2, 8, 10, 11, 65, 72, 81, 99, 100, 150] and window of 3.\n",
        "\n",
        "import numpy as np\n",
        "\n",
        "mylist = [3,5,7,2,8,10,11,65,72,81,99,100,150]\n",
        "N = 3\n",
        "cum_sum=[0]\n",
        "moving_avg =[]\n",
        "\n",
        "def movingAverage(x,N):\n",
        "    for i, x in enumerate(mylist, 1):\n",
        "        cum_sum.append(cum_sum[i-1] + x)\n",
        "        \n",
        "        if i>=N:\n",
        "            moving_value = (cum_sum[i] - cum_sum[i-N])/N\n",
        "            moving_avg.append(moving_value)\n",
        "    print(moving_avg)\n",
        "            \n",
        "movingAverage(mylist, 3)"
      ],
      "execution_count": 1,
      "outputs": [
        {
          "output_type": "stream",
          "text": [
            "[5.0, 4.666666666666667, 5.666666666666667, 6.666666666666667, 9.666666666666666, 28.666666666666668, 49.333333333333336, 72.66666666666667, 84.0, 93.33333333333333, 116.33333333333333]\n"
          ],
          "name": "stdout"
        }
      ]
    },
    {
      "metadata": {
        "id": "e8HeMnPJkEwT",
        "colab_type": "code",
        "colab": {
          "autoexec": {
            "startup": false,
            "wait_interval": 0
          },
          "base_uri": "https://localhost:8080/",
          "height": 359
        },
        "outputId": "f45464a4-4fb9-4dc1-f019-e13f7be57e40",
        "executionInfo": {
          "status": "ok",
          "timestamp": 1533061180062,
          "user_tz": -330,
          "elapsed": 725,
          "user": {
            "displayName": "Rajaram Tripathy",
            "photoUrl": "https://lh3.googleusercontent.com/a/default-user=s128",
            "userId": "113757443950913232239"
          }
        }
      },
      "cell_type": "code",
      "source": [
        "## Assignment 4.1 - Task 2.1\n",
        "## How-to-count-distance-to-the-previous-zero. For each value, count the difference back to the previous zero (or the start of the Series,\n",
        "##whichever is closer) create a new column 'Y'. Consider a DataFrame df where there is an integer column 'X'\n",
        "import pandas as pd\n",
        "\n",
        "df = pd.DataFrame({'X': [7, 2, 0, 3, 4, 2, 5, 0, 3, 4]})\n",
        "r = []\n",
        "j=0\n",
        "\n",
        "#Loop thru data frame\n",
        "for i, row in df.iterrows():\n",
        "    if row['X'] > 0:\n",
        "        j+=1\n",
        "    else:\n",
        "        j=0\n",
        "    r.append(j)     \n",
        "df['Y'] = r\n",
        "df"
      ],
      "execution_count": 3,
      "outputs": [
        {
          "output_type": "execute_result",
          "data": {
            "text/html": [
              "<div>\n",
              "<style scoped>\n",
              "    .dataframe tbody tr th:only-of-type {\n",
              "        vertical-align: middle;\n",
              "    }\n",
              "\n",
              "    .dataframe tbody tr th {\n",
              "        vertical-align: top;\n",
              "    }\n",
              "\n",
              "    .dataframe thead th {\n",
              "        text-align: right;\n",
              "    }\n",
              "</style>\n",
              "<table border=\"1\" class=\"dataframe\">\n",
              "  <thead>\n",
              "    <tr style=\"text-align: right;\">\n",
              "      <th></th>\n",
              "      <th>X</th>\n",
              "      <th>Y</th>\n",
              "    </tr>\n",
              "  </thead>\n",
              "  <tbody>\n",
              "    <tr>\n",
              "      <th>0</th>\n",
              "      <td>7</td>\n",
              "      <td>1</td>\n",
              "    </tr>\n",
              "    <tr>\n",
              "      <th>1</th>\n",
              "      <td>2</td>\n",
              "      <td>2</td>\n",
              "    </tr>\n",
              "    <tr>\n",
              "      <th>2</th>\n",
              "      <td>0</td>\n",
              "      <td>0</td>\n",
              "    </tr>\n",
              "    <tr>\n",
              "      <th>3</th>\n",
              "      <td>3</td>\n",
              "      <td>1</td>\n",
              "    </tr>\n",
              "    <tr>\n",
              "      <th>4</th>\n",
              "      <td>4</td>\n",
              "      <td>2</td>\n",
              "    </tr>\n",
              "    <tr>\n",
              "      <th>5</th>\n",
              "      <td>2</td>\n",
              "      <td>3</td>\n",
              "    </tr>\n",
              "    <tr>\n",
              "      <th>6</th>\n",
              "      <td>5</td>\n",
              "      <td>4</td>\n",
              "    </tr>\n",
              "    <tr>\n",
              "      <th>7</th>\n",
              "      <td>0</td>\n",
              "      <td>0</td>\n",
              "    </tr>\n",
              "    <tr>\n",
              "      <th>8</th>\n",
              "      <td>3</td>\n",
              "      <td>1</td>\n",
              "    </tr>\n",
              "    <tr>\n",
              "      <th>9</th>\n",
              "      <td>4</td>\n",
              "      <td>2</td>\n",
              "    </tr>\n",
              "  </tbody>\n",
              "</table>\n",
              "</div>"
            ],
            "text/plain": [
              "   X  Y\n",
              "0  7  1\n",
              "1  2  2\n",
              "2  0  0\n",
              "3  3  1\n",
              "4  4  2\n",
              "5  2  3\n",
              "6  5  4\n",
              "7  0  0\n",
              "8  3  1\n",
              "9  4  2"
            ]
          },
          "metadata": {
            "tags": []
          },
          "execution_count": 3
        }
      ]
    },
    {
      "metadata": {
        "id": "QpjH3OcekVDh",
        "colab_type": "code",
        "colab": {
          "autoexec": {
            "startup": false,
            "wait_interval": 0
          },
          "base_uri": "https://localhost:8080/",
          "height": 1105
        },
        "outputId": "a9b544bf-1f88-4890-8acf-372cf9a3d54e",
        "executionInfo": {
          "status": "ok",
          "timestamp": 1533061230873,
          "user_tz": -330,
          "elapsed": 764,
          "user": {
            "displayName": "Rajaram Tripathy",
            "photoUrl": "https://lh3.googleusercontent.com/a/default-user=s128",
            "userId": "113757443950913232239"
          }
        }
      },
      "cell_type": "code",
      "source": [
        "## Assignment4.1:Task2.2.2 - Create a DatetimeIndex that contains each business day of 2015 and use it to index a Series of\n",
        "## random numbers.\n",
        "\n",
        "import pandas as pd\n",
        "import numpy as np\n",
        "\n",
        "# Find out the business days of 2015\n",
        "b_day = pd.bdate_range('2015-01-01', '2015-12-31')\n",
        "\n",
        "#Use business day of 2015 as index to a series of random numbers\n",
        "bday_index = pd.Series(np.random.randn(len(b_day)), index=b_day)\n",
        "\n",
        "print('Series of random numbers with date as index:\\n')\n",
        "print(bday_index)"
      ],
      "execution_count": 4,
      "outputs": [
        {
          "output_type": "stream",
          "text": [
            "Series of random numbers with date as index:\n",
            "\n",
            "2015-01-01    0.580316\n",
            "2015-01-02   -0.072030\n",
            "2015-01-05    1.549145\n",
            "2015-01-06    0.342254\n",
            "2015-01-07   -0.177856\n",
            "2015-01-08   -0.275431\n",
            "2015-01-09   -0.818311\n",
            "2015-01-12    0.866649\n",
            "2015-01-13   -0.235161\n",
            "2015-01-14    0.266787\n",
            "2015-01-15    0.024731\n",
            "2015-01-16   -0.045188\n",
            "2015-01-19   -1.186425\n",
            "2015-01-20   -0.766743\n",
            "2015-01-21    0.156873\n",
            "2015-01-22   -0.728037\n",
            "2015-01-23    0.429107\n",
            "2015-01-26   -2.027100\n",
            "2015-01-27   -1.325664\n",
            "2015-01-28   -1.020497\n",
            "2015-01-29   -0.531324\n",
            "2015-01-30   -1.696091\n",
            "2015-02-02    1.435581\n",
            "2015-02-03    0.387091\n",
            "2015-02-04    0.296838\n",
            "2015-02-05    0.293851\n",
            "2015-02-06    0.028450\n",
            "2015-02-09   -0.496186\n",
            "2015-02-10   -0.883480\n",
            "2015-02-11    0.477584\n",
            "                ...   \n",
            "2015-11-20   -0.876926\n",
            "2015-11-23   -0.308550\n",
            "2015-11-24    0.215021\n",
            "2015-11-25   -0.137969\n",
            "2015-11-26    0.439638\n",
            "2015-11-27    1.305872\n",
            "2015-11-30   -0.034619\n",
            "2015-12-01   -0.117539\n",
            "2015-12-02   -0.026912\n",
            "2015-12-03    0.092683\n",
            "2015-12-04   -0.479196\n",
            "2015-12-07    0.474579\n",
            "2015-12-08   -0.184520\n",
            "2015-12-09   -1.547208\n",
            "2015-12-10   -0.694932\n",
            "2015-12-11    0.016644\n",
            "2015-12-14    1.302650\n",
            "2015-12-15   -0.416517\n",
            "2015-12-16    1.921294\n",
            "2015-12-17   -0.184718\n",
            "2015-12-18   -1.883872\n",
            "2015-12-21   -0.302978\n",
            "2015-12-22   -0.468163\n",
            "2015-12-23    0.588482\n",
            "2015-12-24   -0.108851\n",
            "2015-12-25   -0.355724\n",
            "2015-12-28   -0.244858\n",
            "2015-12-29    0.265040\n",
            "2015-12-30   -1.781295\n",
            "2015-12-31    0.466985\n",
            "Freq: B, Length: 261, dtype: float64\n"
          ],
          "name": "stdout"
        }
      ]
    },
    {
      "metadata": {
        "id": "jign30Exkh2q",
        "colab_type": "code",
        "colab": {
          "autoexec": {
            "startup": false,
            "wait_interval": 0
          },
          "base_uri": "https://localhost:8080/",
          "height": 289
        },
        "outputId": "4c154a16-00f1-480a-f4fb-9768f272f148",
        "executionInfo": {
          "status": "ok",
          "timestamp": 1533061262247,
          "user_tz": -330,
          "elapsed": 739,
          "user": {
            "displayName": "Rajaram Tripathy",
            "photoUrl": "https://lh3.googleusercontent.com/a/default-user=s128",
            "userId": "113757443950913232239"
          }
        }
      },
      "cell_type": "code",
      "source": [
        ""
      ],
      "execution_count": 5,
      "outputs": [
        {
          "output_type": "stream",
          "text": [
            "Average For each calendar month is:\n",
            "\n",
            "        numbers\n",
            "month          \n",
            "1      0.304377\n",
            "2      0.228262\n",
            "3      0.075338\n",
            "4      0.004066\n",
            "5     -0.075367\n",
            "6      0.092744\n",
            "7     -0.075766\n",
            "8     -0.248987\n",
            "9      0.118428\n",
            "10     0.091472\n",
            "11    -0.178517\n",
            "12     0.040213\n"
          ],
          "name": "stdout"
        }
      ]
    },
    {
      "metadata": {
        "id": "UZJYr6jNlrQw",
        "colab_type": "code",
        "colab": {
          "autoexec": {
            "startup": false,
            "wait_interval": 0
          },
          "base_uri": "https://localhost:8080/",
          "height": 85
        },
        "outputId": "9ec6404c-77d5-412b-d5b2-fa27dec341f2",
        "executionInfo": {
          "status": "ok",
          "timestamp": 1533061548615,
          "user_tz": -330,
          "elapsed": 835,
          "user": {
            "displayName": "Rajaram Tripathy",
            "photoUrl": "https://lh3.googleusercontent.com/a/default-user=s128",
            "userId": "113757443950913232239"
          }
        }
      },
      "cell_type": "code",
      "source": [
        "## Assignment4.1:Task2.2.3 - Create a DatetimeIndex that contains each business day of 2015 and use it to index a Series of\n",
        "## random numbers.\n",
        "## Q3 - Find the sum of the values in s for every Wednesday\n",
        "\n",
        "import pandas as pd\n",
        "import numpy as np\n",
        "\n",
        "# Find out the business days of 2015\n",
        "b_day = pd.bdate_range('2015-01-01', '2015-12-31')\n",
        "\n",
        "#Use business day of 2015 as index to a series of random numbers\n",
        "bday_index = pd.Series(np.random.randn(len(b_day)), index=b_day)\n",
        "\n",
        "df = pd.DataFrame({'numbers': np.random.randn(len(b_day)), 'dates': b_day})\n",
        "totalValues_Wed = df[df['dates'].dt.weekday_name == 'Wednesday'].sum()\n",
        "\n",
        "print(\"sum of the values in sequences for every Wednesday:\\n\")\n",
        "print(totalValues_Wed)"
      ],
      "execution_count": 6,
      "outputs": [
        {
          "output_type": "stream",
          "text": [
            "sum of the values in sequences for every Wednesday:\n",
            "\n",
            "numbers   -1.148445\n",
            "dtype: float64\n"
          ],
          "name": "stdout"
        }
      ]
    },
    {
      "metadata": {
        "id": "q_ZvhWaxl9xJ",
        "colab_type": "code",
        "colab": {
          "autoexec": {
            "startup": false,
            "wait_interval": 0
          },
          "base_uri": "https://localhost:8080/",
          "height": 289
        },
        "outputId": "f25e195d-d84e-4c36-ceca-e37985f379c0",
        "executionInfo": {
          "status": "ok",
          "timestamp": 1533061624420,
          "user_tz": -330,
          "elapsed": 748,
          "user": {
            "displayName": "Rajaram Tripathy",
            "photoUrl": "https://lh3.googleusercontent.com/a/default-user=s128",
            "userId": "113757443950913232239"
          }
        }
      },
      "cell_type": "code",
      "source": [
        "## Assignment4.1:Task2.2.4 - Create a DatetimeIndex that contains each business day of 2015 and use it to index a Series of\n",
        "## random numbers.\n",
        "## Q4 - Average For each calendar month\n",
        "\n",
        "import pandas as pd\n",
        "import numpy as np\n",
        "\n",
        "# Find out the business days of 2015\n",
        "b_day = pd.bdate_range('2015-01-01', '2015-12-31')\n",
        "\n",
        "#Use business day of 2015 as index to a series of random numbers\n",
        "bday_index = pd.Series(np.random.randn(len(b_day)), index=b_day)\n",
        "\n",
        "df = pd.DataFrame({'numbers': np.random.randn(len(b_day)), 'dates': b_day})\n",
        "totalValues_Wed = df[df['dates'].dt.weekday_name == 'Wednesday'].sum()\n",
        "\n",
        "##Average For each calendar month\n",
        "\n",
        "# Set a new column of month of each dates\n",
        "df['month'] = df['dates'].dt.month\n",
        "\n",
        "# apply group by to select each calender month and then apply mean() to get the average of each month\n",
        "avgCalenderMonth = df.groupby('month').mean()\n",
        "\n",
        "# print the data\n",
        "print('Average For each calendar month is:\\n')\n",
        "print(avgCalenderMonth)"
      ],
      "execution_count": 7,
      "outputs": [
        {
          "output_type": "stream",
          "text": [
            "Average For each calendar month is:\n",
            "\n",
            "        numbers\n",
            "month          \n",
            "1     -0.164913\n",
            "2     -0.154797\n",
            "3      0.281061\n",
            "4     -0.276468\n",
            "5      0.225374\n",
            "6      0.013290\n",
            "7      0.180953\n",
            "8     -0.049632\n",
            "9     -0.060220\n",
            "10    -0.105705\n",
            "11    -0.340430\n",
            "12     0.110838\n"
          ],
          "name": "stdout"
        }
      ]
    },
    {
      "metadata": {
        "id": "YQcquKfQmT-z",
        "colab_type": "code",
        "colab": {
          "autoexec": {
            "startup": false,
            "wait_interval": 0
          },
          "base_uri": "https://localhost:8080/",
          "height": 85
        },
        "outputId": "28ecf518-c562-48dd-fff2-ee6b03426a70",
        "executionInfo": {
          "status": "ok",
          "timestamp": 1533061721342,
          "user_tz": -330,
          "elapsed": 743,
          "user": {
            "displayName": "Rajaram Tripathy",
            "photoUrl": "https://lh3.googleusercontent.com/a/default-user=s128",
            "userId": "113757443950913232239"
          }
        }
      },
      "cell_type": "code",
      "source": [
        "# Q5: For each group of four consecutive calendar months in s, find the date on which the\n",
        "# highest value occurred.\n",
        "\n",
        "# create group on consecutive 4 months\n",
        "df['monthGrp'] = df['month'].apply(lambda x: np.floor((x/4)) - 1\n",
        "                                   if x % 4 == 0 else np.floor((x/4)))\n",
        "df2 = df.loc[df.groupby('monthGrp')['numbers'].idxmax()]\n",
        "print(df2)"
      ],
      "execution_count": 8,
      "outputs": [
        {
          "output_type": "stream",
          "text": [
            "         dates   numbers  month  monthGrp\n",
            "81  2015-04-24  2.570502      4       0.0\n",
            "154 2015-08-05  2.271390      8       1.0\n",
            "188 2015-09-22  2.433479      9       2.0\n"
          ],
          "name": "stdout"
        }
      ]
    }
  ]
}